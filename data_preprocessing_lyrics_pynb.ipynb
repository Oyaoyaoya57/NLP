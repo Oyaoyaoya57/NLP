{
  "nbformat": 4,
  "nbformat_minor": 0,
  "metadata": {
    "colab": {
      "provenance": []
    },
    "kernelspec": {
      "name": "python3",
      "display_name": "Python 3"
    },
    "language_info": {
      "name": "python"
    }
  },
  "cells": [
    {
      "cell_type": "code",
      "execution_count": null,
      "metadata": {
        "id": "30AqV3IroNPK"
      },
      "outputs": [],
      "source": [
        "import pandas as pd\n",
        "import numpy as np\n",
        "import matplotlib.pyplot as plt\n",
        "import keras\n",
        "import re\n",
        "import nltk\n",
        "from nltk.corpus import stopwords\n",
        "import string\n",
        "import json\n",
        "from time import time\n",
        "import pickle\n",
        "from keras.applications.vgg16 import VGG16\n",
        "from tensorflow.keras.applications.resnet50 import ResNet50, preprocess_input, decode_predictions\n",
        "from keras.preprocessing import image\n",
        "from keras.models import Model, load_model\n",
        "from keras.utils.vis_utils import plot_model\n",
        "from keras_preprocessing.sequence import pad_sequences\n",
        "from tensorflow.keras.utils import to_categorical\n",
        "from keras.layers import Input, Dense, Dropout, Embedding, LSTM\n",
        "from tensorflow.keras.layers import concatenate"
      ]
    },
    {
      "cell_type": "code",
      "source": [
        "import zipfile\n",
        "import os\n",
        "\n",
        "os.environ['KAGGLE_CONFIG_DIR'] = \"/content\""
      ],
      "metadata": {
        "id": "4upZbydppWTm"
      },
      "execution_count": null,
      "outputs": []
    },
    {
      "cell_type": "code",
      "source": [
        "!kaggle datasets download -d italomarcelo/dataset-lyrics-musics"
      ],
      "metadata": {
        "colab": {
          "base_uri": "https://localhost:8080/"
        },
        "id": "mcyrA139pZnS",
        "outputId": "3d0341fd-aba4-4100-d7c9-d6c056f9098e"
      },
      "execution_count": null,
      "outputs": [
        {
          "output_type": "stream",
          "name": "stdout",
          "text": [
            "Traceback (most recent call last):\n",
            "  File \"/usr/local/bin/kaggle\", line 5, in <module>\n",
            "    from kaggle.cli import main\n",
            "  File \"/usr/local/lib/python3.7/dist-packages/kaggle/__init__.py\", line 23, in <module>\n",
            "    api.authenticate()\n",
            "  File \"/usr/local/lib/python3.7/dist-packages/kaggle/api/kaggle_api_extended.py\", line 166, in authenticate\n",
            "    self.config_file, self.config_dir))\n",
            "OSError: Could not find kaggle.json. Make sure it's located in /content. Or use the environment method.\n"
          ]
        }
      ]
    },
    {
      "cell_type": "code",
      "source": [
        "f = pd.read_csv('/content/dataset-lyrics-musics.csv')"
      ],
      "metadata": {
        "id": "lTH1R-d-qi8X"
      },
      "execution_count": null,
      "outputs": []
    },
    {
      "cell_type": "code",
      "source": [
        "print(len(f))"
      ],
      "metadata": {
        "colab": {
          "base_uri": "https://localhost:8080/"
        },
        "id": "JYZfp0qB6CLn",
        "outputId": "cbc17a8e-1e88-47e4-c3eb-c0b2034921f2"
      },
      "execution_count": 13,
      "outputs": [
        {
          "output_type": "stream",
          "name": "stdout",
          "text": [
            "209522\n"
          ]
        }
      ]
    },
    {
      "cell_type": "code",
      "source": [
        "print(f[1:4])"
      ],
      "metadata": {
        "id": "qjCpjZFr6Nh5",
        "colab": {
          "base_uri": "https://localhost:8080/"
        },
        "outputId": "0e153780-adeb-42c7-fa9a-a6b66eb494a0"
      },
      "execution_count": 14,
      "outputs": [
        {
          "output_type": "stream",
          "name": "stdout",
          "text": [
            "   cantorId     cantorNome         musicaNome  \\\n",
            "1         0  10000-maniacs  Because The Night   \n",
            "2         0  10000-maniacs     These Are Days   \n",
            "3         0  10000-maniacs    A Campfire Song   \n",
            "\n",
            "                                               letra  \n",
            "1  Take me now, baby, here as I am. Hold me close...  \n",
            "2  These are. These are days you'll remember. Nev...  \n",
            "3  A lie to say, \"O my mountain has coal veins an...  \n"
          ]
        }
      ]
    },
    {
      "cell_type": "code",
      "source": [
        "print(f)"
      ],
      "metadata": {
        "colab": {
          "base_uri": "https://localhost:8080/"
        },
        "id": "Xw92iyQ78GFn",
        "outputId": "c7477df7-c44b-4d43-9f99-fb47de75ff5f"
      },
      "execution_count": 15,
      "outputs": [
        {
          "output_type": "stream",
          "name": "stdout",
          "text": [
            "        cantorId      cantorNome                              musicaNome  \\\n",
            "0              0   10000-maniacs                          More Than This   \n",
            "1              0   10000-maniacs                       Because The Night   \n",
            "2              0   10000-maniacs                          These Are Days   \n",
            "3              0   10000-maniacs                         A Campfire Song   \n",
            "4              0   10000-maniacs                 Everyday Is Like Sunday   \n",
            "...          ...             ...                                     ...   \n",
            "209517      2992  zeca-pagodinho           Vou Botar Teu Nome Na Macumba   \n",
            "209518      2992  zeca-pagodinho                   Vou Procurar Esquecer   \n",
            "209519      2992  zeca-pagodinho                         Vou Ver Juliana   \n",
            "209520      2992  zeca-pagodinho  Yaô Cadê A Samba / Outro Recado / Hino   \n",
            "209521      2992  zeca-pagodinho                        Zeca, Cadê Você?   \n",
            "\n",
            "                                                    letra  \n",
            "0       I could feel at the time. There was no way of ...  \n",
            "1       Take me now, baby, here as I am. Hold me close...  \n",
            "2       These are. These are days you'll remember. Nev...  \n",
            "3       A lie to say, \"O my mountain has coal veins an...  \n",
            "4       Trudging slowly over wet sand. Back to the ben...  \n",
            "...                                                   ...  \n",
            "209517  Eu vou botar teu nome na macumba. Vou procurar...  \n",
            "209518  Vou procurar um novo amor na minha vida. Porqu...  \n",
            "209519  Quando a mare vazá. Vou vê juliana. Vou vê jul...  \n",
            "209520  Ô Yaô. Yaô, cadê a samba?. Está mangando na cu...  \n",
            "209521  Ô, Zeca, tu tá morando onde?. Ô, Zeca, tu tá m...  \n",
            "\n",
            "[209522 rows x 4 columns]\n"
          ]
        }
      ]
    },
    {
      "cell_type": "code",
      "source": [
        "print(f.letra)"
      ],
      "metadata": {
        "colab": {
          "base_uri": "https://localhost:8080/"
        },
        "id": "GCxGN8I58QKj",
        "outputId": "f3d267f6-ea20-4317-acb7-01edaba70f2d"
      },
      "execution_count": 16,
      "outputs": [
        {
          "output_type": "stream",
          "name": "stdout",
          "text": [
            "0         I could feel at the time. There was no way of ...\n",
            "1         Take me now, baby, here as I am. Hold me close...\n",
            "2         These are. These are days you'll remember. Nev...\n",
            "3         A lie to say, \"O my mountain has coal veins an...\n",
            "4         Trudging slowly over wet sand. Back to the ben...\n",
            "                                ...                        \n",
            "209517    Eu vou botar teu nome na macumba. Vou procurar...\n",
            "209518    Vou procurar um novo amor na minha vida. Porqu...\n",
            "209519    Quando a mare vazá. Vou vê juliana. Vou vê jul...\n",
            "209520    Ô Yaô. Yaô, cadê a samba?. Está mangando na cu...\n",
            "209521    Ô, Zeca, tu tá morando onde?. Ô, Zeca, tu tá m...\n",
            "Name: letra, Length: 209522, dtype: object\n"
          ]
        }
      ]
    },
    {
      "cell_type": "code",
      "source": [
        "new_df = f[['cantorNome','letra']].copy()\n",
        "print(new_df)"
      ],
      "metadata": {
        "colab": {
          "base_uri": "https://localhost:8080/"
        },
        "id": "WZyMtgwy8bpj",
        "outputId": "f51d85ef-f599-45c7-c7f5-70c4455cf04d"
      },
      "execution_count": 18,
      "outputs": [
        {
          "output_type": "stream",
          "name": "stdout",
          "text": [
            "            cantorNome                                              letra\n",
            "0        10000-maniacs  I could feel at the time. There was no way of ...\n",
            "1        10000-maniacs  Take me now, baby, here as I am. Hold me close...\n",
            "2        10000-maniacs  These are. These are days you'll remember. Nev...\n",
            "3        10000-maniacs  A lie to say, \"O my mountain has coal veins an...\n",
            "4        10000-maniacs  Trudging slowly over wet sand. Back to the ben...\n",
            "...                ...                                                ...\n",
            "209517  zeca-pagodinho  Eu vou botar teu nome na macumba. Vou procurar...\n",
            "209518  zeca-pagodinho  Vou procurar um novo amor na minha vida. Porqu...\n",
            "209519  zeca-pagodinho  Quando a mare vazá. Vou vê juliana. Vou vê jul...\n",
            "209520  zeca-pagodinho  Ô Yaô. Yaô, cadê a samba?. Está mangando na cu...\n",
            "209521  zeca-pagodinho  Ô, Zeca, tu tá morando onde?. Ô, Zeca, tu tá m...\n",
            "\n",
            "[209522 rows x 2 columns]\n"
          ]
        }
      ]
    },
    {
      "cell_type": "code",
      "source": [
        "def clean_text(sentence):\n",
        "    sentence = sentence.lower()\n",
        "    sentence = re.sub(\"[^a-z]+\",\" \",sentence)\n",
        "    sentence = sentence.split()\n",
        "    \n",
        "    sentence  = [s for s in sentence if len(s)>1]\n",
        "    sentence = \" \".join(sentence)\n",
        "    return sentence"
      ],
      "metadata": {
        "id": "wOSDKILf89Ms"
      },
      "execution_count": 19,
      "outputs": []
    },
    {
      "cell_type": "code",
      "source": [
        "clean_lyric=clean_text(f.letra[5000])\n",
        "print(clean_lyric)"
      ],
      "metadata": {
        "colab": {
          "base_uri": "https://localhost:8080/"
        },
        "id": "dhFIxkkC9QBl",
        "outputId": "99c44977-3801-4f3f-b2ad-52befb05b0e4"
      },
      "execution_count": 29,
      "outputs": [
        {
          "output_type": "stream",
          "name": "stdout",
          "text": [
            "can love you without asking why see you all thats in your eyes knowing there no alibi if made you cry can see you like the morning sun feel you and holding on knowing that not alone wanna take you home and all of the flowers seem to wither in their beds and say good night and all of the hours seem to clear away the bad and make it right and all of the flowers seem to wither in their beds and say good night and all of the hours seem to clear away the bad and make it right\n"
          ]
        }
      ]
    },
    {
      "cell_type": "code",
      "source": [
        "for i in range (len(f)):\n",
        "  clean_lyric=clean_text(f.letra[i])\n",
        "print(clean_lyric)"
      ],
      "metadata": {
        "colab": {
          "base_uri": "https://localhost:8080/",
          "height": 321
        },
        "id": "x9OH7sar9UmA",
        "outputId": "19258b9b-8df7-47bb-87e4-3615fab0ce25"
      },
      "execution_count": 30,
      "outputs": [
        {
          "output_type": "error",
          "ename": "AttributeError",
          "evalue": "ignored",
          "traceback": [
            "\u001b[0;31m---------------------------------------------------------------------------\u001b[0m",
            "\u001b[0;31mAttributeError\u001b[0m                            Traceback (most recent call last)",
            "\u001b[0;32m<ipython-input-30-3ea780cb646f>\u001b[0m in \u001b[0;36m<module>\u001b[0;34m\u001b[0m\n\u001b[1;32m      1\u001b[0m \u001b[0;32mfor\u001b[0m \u001b[0mi\u001b[0m \u001b[0;32min\u001b[0m \u001b[0mrange\u001b[0m \u001b[0;34m(\u001b[0m\u001b[0mlen\u001b[0m\u001b[0;34m(\u001b[0m\u001b[0mf\u001b[0m\u001b[0;34m)\u001b[0m\u001b[0;34m)\u001b[0m\u001b[0;34m:\u001b[0m\u001b[0;34m\u001b[0m\u001b[0;34m\u001b[0m\u001b[0m\n\u001b[0;32m----> 2\u001b[0;31m   \u001b[0mclean_lyric\u001b[0m\u001b[0;34m=\u001b[0m\u001b[0mclean_text\u001b[0m\u001b[0;34m(\u001b[0m\u001b[0mf\u001b[0m\u001b[0;34m.\u001b[0m\u001b[0mletra\u001b[0m\u001b[0;34m[\u001b[0m\u001b[0mi\u001b[0m\u001b[0;34m]\u001b[0m\u001b[0;34m)\u001b[0m\u001b[0;34m\u001b[0m\u001b[0;34m\u001b[0m\u001b[0m\n\u001b[0m\u001b[1;32m      3\u001b[0m \u001b[0mprint\u001b[0m\u001b[0;34m(\u001b[0m\u001b[0mclean_lyric\u001b[0m\u001b[0;34m)\u001b[0m\u001b[0;34m\u001b[0m\u001b[0;34m\u001b[0m\u001b[0m\n",
            "\u001b[0;32m<ipython-input-19-f79696c0cb96>\u001b[0m in \u001b[0;36mclean_text\u001b[0;34m(sentence)\u001b[0m\n\u001b[1;32m      1\u001b[0m \u001b[0;32mdef\u001b[0m \u001b[0mclean_text\u001b[0m\u001b[0;34m(\u001b[0m\u001b[0msentence\u001b[0m\u001b[0;34m)\u001b[0m\u001b[0;34m:\u001b[0m\u001b[0;34m\u001b[0m\u001b[0;34m\u001b[0m\u001b[0m\n\u001b[0;32m----> 2\u001b[0;31m     \u001b[0msentence\u001b[0m \u001b[0;34m=\u001b[0m \u001b[0msentence\u001b[0m\u001b[0;34m.\u001b[0m\u001b[0mlower\u001b[0m\u001b[0;34m(\u001b[0m\u001b[0;34m)\u001b[0m\u001b[0;34m\u001b[0m\u001b[0;34m\u001b[0m\u001b[0m\n\u001b[0m\u001b[1;32m      3\u001b[0m     \u001b[0msentence\u001b[0m \u001b[0;34m=\u001b[0m \u001b[0mre\u001b[0m\u001b[0;34m.\u001b[0m\u001b[0msub\u001b[0m\u001b[0;34m(\u001b[0m\u001b[0;34m\"[^a-z]+\"\u001b[0m\u001b[0;34m,\u001b[0m\u001b[0;34m\" \"\u001b[0m\u001b[0;34m,\u001b[0m\u001b[0msentence\u001b[0m\u001b[0;34m)\u001b[0m\u001b[0;34m\u001b[0m\u001b[0;34m\u001b[0m\u001b[0m\n\u001b[1;32m      4\u001b[0m     \u001b[0msentence\u001b[0m \u001b[0;34m=\u001b[0m \u001b[0msentence\u001b[0m\u001b[0;34m.\u001b[0m\u001b[0msplit\u001b[0m\u001b[0;34m(\u001b[0m\u001b[0;34m)\u001b[0m\u001b[0;34m\u001b[0m\u001b[0;34m\u001b[0m\u001b[0m\n\u001b[1;32m      5\u001b[0m \u001b[0;34m\u001b[0m\u001b[0m\n",
            "\u001b[0;31mAttributeError\u001b[0m: 'float' object has no attribute 'lower'"
          ]
        }
      ]
    },
    {
      "cell_type": "code",
      "source": [],
      "metadata": {
        "colab": {
          "base_uri": "https://localhost:8080/",
          "height": 269
        },
        "id": "Qg7xaw-y-NpA",
        "outputId": "f1efa973-0b6b-4e45-dcd4-4e796ddc40bd"
      },
      "execution_count": 25,
      "outputs": [
        {
          "output_type": "error",
          "ename": "SyntaxError",
          "evalue": "ignored",
          "traceback": [
            "\u001b[0;36m  File \u001b[0;32m\"<ipython-input-25-d167b000dc65>\"\u001b[0;36m, line \u001b[0;32m1\u001b[0m\n\u001b[0;31m    could feel at the time there was no way of knowing fallen leaves in the night who can say where they re blowing as free as the wind hopefully learning why the sea on the tide has no way of turning more than this you know there nothing more than this tell me one thing more than this you know there nothing it was fun for while there was no way of knowing like dream in the night who can say where we re going no care in the world maybe learning why the sea on the tide has no way of turning more than this you know there nothing more than this tell me one thing more than this you know there nothing more than this you know there nothing more than this tell me one thing more than this there nothing\u001b[0m\n\u001b[0m             ^\u001b[0m\n\u001b[0;31mSyntaxError\u001b[0m\u001b[0;31m:\u001b[0m invalid syntax\n"
          ]
        }
      ]
    },
    {
      "cell_type": "code",
      "source": [],
      "metadata": {
        "id": "H5lI_E50-O8y"
      },
      "execution_count": null,
      "outputs": []
    }
  ]
}